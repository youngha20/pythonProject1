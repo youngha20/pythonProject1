{
  "nbformat": 4,
  "nbformat_minor": 0,
  "metadata": {
    "colab": {
      "name": "python_day2.ipynb",
      "provenance": [],
      "authorship_tag": "ABX9TyO/eG3lMXivCEfF7zyKQ6uu",
      "include_colab_link": true
    },
    "kernelspec": {
      "name": "python3",
      "display_name": "Python 3"
    },
    "language_info": {
      "name": "python"
    }
  },
  "cells": [
    {
      "cell_type": "markdown",
      "metadata": {
        "id": "view-in-github",
        "colab_type": "text"
      },
      "source": [
        "<a href=\"https://colab.research.google.com/github/youngha20/pythonProject1/blob/master/python_day2.ipynb\" target=\"_parent\"><img src=\"https://colab.research.google.com/assets/colab-badge.svg\" alt=\"Open In Colab\"/></a>"
      ]
    },
    {
      "cell_type": "code",
      "metadata": {
        "id": "g3YYavRBw_Re"
      },
      "source": [
        ""
      ],
      "execution_count": null,
      "outputs": []
    },
    {
      "cell_type": "markdown",
      "metadata": {
        "id": "N7YmdNERxFyT"
      },
      "source": [
        "# if 조건문"
      ]
    },
    {
      "cell_type": "code",
      "metadata": {
        "id": "Btf3MB-HxHo9"
      },
      "source": [
        "# ==같다 !=같지않다\n",
        "# if 조건 :\n",
        "    조건문장 1\n",
        "    조건문장 2\n",
        "    조건문장 3\n"
      ],
      "execution_count": null,
      "outputs": []
    },
    {
      "cell_type": "code",
      "metadata": {
        "colab": {
          "base_uri": "https://localhost:8080/"
        },
        "id": "1SiTL1flxNlh",
        "outputId": "208e0e75-6179-4f3e-c599-a80d6dd07c24"
      },
      "source": [
        "# part 조건문과 반목문 활용\n",
        "# 예제 1\n",
        "name = input('조회할 사람의 이름을 입력하세요 : ')\n",
        "\n",
        "if name == '홍길동' :\n",
        "      print(\"홍길동 입니다\")\n",
        "      print(\"남자입니다.\")\n",
        "      print(\"활빈당 총수입니다.\")"
      ],
      "execution_count": null,
      "outputs": [
        {
          "output_type": "stream",
          "text": [
            "조회할 사람의 이름을 입력하세요 : 홍갈동\n"
          ],
          "name": "stdout"
        }
      ]
    },
    {
      "cell_type": "code",
      "metadata": {
        "colab": {
          "base_uri": "https://localhost:8080/"
        },
        "id": "CSldludSye4r",
        "outputId": "1111cb54-995f-4ae4-915d-cdf85f382204"
      },
      "source": [
        "# 조건이 참일 경우와 거짓일 경우 모두 수행할 작업을 지정하기\n",
        "#   if 조건 :\n",
        "#       실행문장 1\n",
        "#    else : \n",
        "#       실행문장 2\n",
        "\n",
        "neme = input('이름은? : ')\n",
        "\n",
        "if neme == \"홍길동\" :\n",
        "    print(\"홍길동 입니다\")\n",
        "    print(\"남자입니다.\")\n",
        "    print(\"활빈당 총수입니다.\")\n",
        "else :\n",
        "   print(\"홍길동 아니고 %s 입니다\" %neme)\n",
        "   print(\"남자인가요?\")\n",
        "   print(\"여자인가요?\")\n"
      ],
      "execution_count": null,
      "outputs": [
        {
          "output_type": "stream",
          "text": [
            "이름은? : 홍홍홍\n",
            "홍길동 아니고 홍홍홍 입니다\n",
            "남자인가요?\n",
            "여자인가요?\n"
          ],
          "name": "stdout"
        }
      ]
    },
    {
      "cell_type": "code",
      "metadata": {
        "colab": {
          "base_uri": "https://localhost:8080/"
        },
        "id": "Kd0qaMx80jmu",
        "outputId": "00be2db7-5494-46c1-e7d2-b6fc6fafe7e8"
      },
      "source": [
        "# 여러 개의 조건에 따라 다른 작업\n",
        "# if 조건 1 :\n",
        "#     실행문장\n",
        "# elif 조건2\n",
        "#     실행문장2\n",
        "# elif 조건3\n",
        "#     실행문장3\n",
        "# elif 조건4\n",
        "#     실행문장4\n",
        "\n",
        "jumsu = int(input(\"점수를 입력해라 : \"))\n",
        "\n",
        "if jumsu >=91 and jumsu <=100 :\n",
        "    print(\"A\")\n",
        "elif jumsu >=81 and jumsu <=90 :\n",
        "    print(\"B\")\n",
        "elif jumsu >=71 and jumsu <=80 :\n",
        "    print(\"C\")\n",
        "elif jumsu >=101 :\n",
        "    print(\"점수를 잘못입력했어요\")\n",
        "else :\n",
        "    print(\"낙제\")"
      ],
      "execution_count": null,
      "outputs": [
        {
          "output_type": "stream",
          "text": [
            "점수를 입력해라 : 1\n",
            "낙제\n"
          ],
          "name": "stdout"
        }
      ]
    },
    {
      "cell_type": "code",
      "metadata": {
        "colab": {
          "base_uri": "https://localhost:8080/"
        },
        "id": "k9eFzwV815rQ",
        "outputId": "72b58598-c3f6-4bc1-b44a-012c7d903471"
      },
      "source": [
        "# 연습문제\n",
        "no1=int(input(\"숫자를 입력하세요. : \"))\n",
        "\n",
        "if no1 % 3 == 0 :\n",
        "    print(no1**2)\n",
        "else :\n",
        "    print(\"0\")\n",
        "\n"
      ],
      "execution_count": null,
      "outputs": [
        {
          "output_type": "stream",
          "text": [
            "숫자를 입력하세요. : 9\n",
            "81\n"
          ],
          "name": "stdout"
        }
      ]
    },
    {
      "cell_type": "code",
      "metadata": {
        "colab": {
          "base_uri": "https://localhost:8080/"
        },
        "id": "U9zPB1e78CKS",
        "outputId": "9c5792f7-e276-44c7-db89-edd3254ba6e9"
      },
      "source": [
        "fruits = input(\"사과, 감, 귤 중에서 어떤 과일 좋아하세요? : \")\n",
        "\n",
        "if fruits == \"사과\" :\n",
        "    print(\"Good~\")\n",
        "elif fruits == \"감\" :\n",
        "    print(\"Very Good~\")\n",
        "elif fruits == \"귤\" :\n",
        "    print(\"So So~\")\n",
        "else :\n",
        "    print(\"사과, 감, 귤 중에서 입력하세요\")"
      ],
      "execution_count": null,
      "outputs": [
        {
          "output_type": "stream",
          "text": [
            "사과, 감, 귤 중에서 어떤 과일 좋아하세요? : 배\n",
            "사과, 감, 귤 중에서 입력하세요\n"
          ],
          "name": "stdout"
        }
      ]
    },
    {
      "cell_type": "code",
      "metadata": {
        "colab": {
          "base_uri": "https://localhost:8080/"
        },
        "id": "NQpb9w0O9Gqx",
        "outputId": "fc7e17f3-db58-43ed-e62d-6fc3c96d8b90"
      },
      "source": [
        "menu1 = int(input('''\n",
        "1. 짜장면 - 5000원 2. 짬봉 - 6000원\n",
        "3. 군만두 - 8000원 4. 탕수육 - 10000원\n",
        "\n",
        "위 메뉴 중 주문할 메뉴의 번호를 쓰세요'''))\n",
        "menu2 = int(input('위 메뉴의 주문 수량을 쓰세요'))\n",
        "\n",
        "if menu1 == 1 :\n",
        "    print('주문하신 메뉴는 %s 이고 주문수량은 %s 그릇이며, 주문금액은 %s 입니다.' %(menu1, menu2, menu2*5000))\n",
        "elif menu1 == 2 :\n",
        "    print('주문하신 메뉴는 %s 이고 주문수량은 %s 그릇이며, 주문금액은 %s 입니다.' %(menu1, menu2, menu2*6000))\n",
        "elif menu1 == 3 :\n",
        "    print('주문하신 메뉴는 %s 이고 주문수량은 %s 그릇이며, 주문금액은 %s 입니다.' %(menu1, menu2, menu2*8000))\n",
        "elif menu1 == 4 :\n",
        "    print('주문하신 메뉴는 %s 이고 주문수량은 %s 그릇이며, 주문금액은 %s 입니다.' %(menu1, menu2, menu2*10000))"
      ],
      "execution_count": null,
      "outputs": [
        {
          "output_type": "stream",
          "text": [
            "\n",
            "1. 짜장면 - 5000원 2. 짬봉 - 6000원\n",
            "3. 군만두 - 8000원 4. 탕수육 - 10000원\n",
            "\n",
            "위 메뉴 중 주문할 메뉴의 번호를 쓰세요4\n",
            "위 메뉴의 주문 수량을 쓰세요2\n",
            "주문하신 메뉴는 4 이고 주문수량은 2 그릇이며, 주문금액은 20000 입니다.\n"
          ],
          "name": "stdout"
        }
      ]
    },
    {
      "cell_type": "markdown",
      "metadata": {
        "id": "evXiNU47BCQv"
      },
      "source": [
        "# For 반복문"
      ]
    },
    {
      "cell_type": "code",
      "metadata": {
        "id": "2NSnjInaBIR9"
      },
      "source": [
        "# for 변수 in 반복 횟수 :\n",
        "#     실행할 문장 1\n",
        "#     실행할 문장 2\n",
        "#     실행할 문장 3"
      ],
      "execution_count": null,
      "outputs": []
    },
    {
      "cell_type": "code",
      "metadata": {
        "colab": {
          "base_uri": "https://localhost:8080/"
        },
        "id": "KpW3TqQKBUyP",
        "outputId": "75d09364-46e0-492d-ffdd-d82c82ef1893"
      },
      "source": [
        "for i in (1,2,3) :\n",
        "    print( i )"
      ],
      "execution_count": null,
      "outputs": [
        {
          "output_type": "stream",
          "text": [
            "1\n",
            "2\n",
            "3\n"
          ],
          "name": "stdout"
        }
      ]
    },
    {
      "cell_type": "code",
      "metadata": {
        "colab": {
          "base_uri": "https://localhost:8080/"
        },
        "id": "xMI_sxR3BZhw",
        "outputId": "957e2c44-96bf-45ec-e4d1-b605a6b34107"
      },
      "source": [
        "data = [\"하나\", \"둘\", \"셋\"]\n",
        "for i in data :\n",
        "     print(i)"
      ],
      "execution_count": null,
      "outputs": [
        {
          "output_type": "stream",
          "text": [
            "하나\n",
            "둘\n",
            "셋\n"
          ],
          "name": "stdout"
        }
      ]
    },
    {
      "cell_type": "code",
      "metadata": {
        "colab": {
          "base_uri": "https://localhost:8080/"
        },
        "id": "ejzWh_JjBkqk",
        "outputId": "c7a02b70-f591-40a1-81e8-0e3e95012c1a"
      },
      "source": [
        "data = [\"김구\", \"유관순\", \"이순신\"]\n",
        "for i in data :\n",
        "    print(\"%s님은 대한민국의 위대한 위인이고 자랑이십니다~!\" %i)"
      ],
      "execution_count": null,
      "outputs": [
        {
          "output_type": "stream",
          "text": [
            "김구님은 대한민국의 위대한 위인이고 자랑이십니다~!\n",
            "유관순님은 대한민국의 위대한 위인이고 자랑이십니다~!\n",
            "이순신님은 대한민국의 위대한 위인이고 자랑이십니다~!\n"
          ],
          "name": "stdout"
        }
      ]
    },
    {
      "cell_type": "code",
      "metadata": {
        "colab": {
          "base_uri": "https://localhost:8080/"
        },
        "id": "X6lYtppRCN3x",
        "outputId": "34acb95b-1043-425a-a349-55eb9512b0d6"
      },
      "source": [
        "for i in range(1,5) :\n",
        "    print(\"밥 %s 그릇 주세요\" %i)"
      ],
      "execution_count": null,
      "outputs": [
        {
          "output_type": "stream",
          "text": [
            "밥 1 그릇 주세요\n",
            "밥 2 그릇 주세요\n",
            "밥 3 그릇 주세요\n",
            "밥 4 그릇 주세요\n"
          ],
          "name": "stdout"
        }
      ]
    },
    {
      "cell_type": "code",
      "metadata": {
        "id": "ogPDVfGpCuGy"
      },
      "source": [
        ""
      ],
      "execution_count": null,
      "outputs": []
    },
    {
      "cell_type": "markdown",
      "metadata": {
        "id": "A_zs9iojDC5x"
      },
      "source": [
        "# while 반복문"
      ]
    },
    {
      "cell_type": "code",
      "metadata": {
        "id": "s_gzdbJVDF9O"
      },
      "source": [
        "# while 조건 :\n",
        "#    실행할 조건1\n",
        "#    실행할 조건1\n",
        "#    실행할 조건1"
      ],
      "execution_count": null,
      "outputs": []
    },
    {
      "cell_type": "code",
      "metadata": {
        "colab": {
          "base_uri": "https://localhost:8080/"
        },
        "id": "VbwStx7KDMzN",
        "outputId": "2b02e956-159a-45f0-f441-b7eee52bc5b3"
      },
      "source": [
        "no1 = 1\n",
        "while no1 < 9 :\n",
        "    print(no1)\n",
        "    no1 += 2"
      ],
      "execution_count": null,
      "outputs": [
        {
          "output_type": "stream",
          "text": [
            "1\n",
            "3\n",
            "5\n",
            "7\n"
          ],
          "name": "stdout"
        }
      ]
    },
    {
      "cell_type": "code",
      "metadata": {
        "colab": {
          "base_uri": "https://localhost:8080/"
        },
        "id": "pnUselVeDUGO",
        "outputId": "a17555c1-0d46-4bd3-f529-d82784c44f85"
      },
      "source": [
        "no1 = 0\n",
        "while no1 < 9 :\n",
        "    no1 += 2\n",
        "    print(no1)\n"
      ],
      "execution_count": null,
      "outputs": [
        {
          "output_type": "stream",
          "text": [
            "2\n",
            "4\n",
            "6\n",
            "8\n",
            "10\n"
          ],
          "name": "stdout"
        }
      ]
    },
    {
      "cell_type": "code",
      "metadata": {
        "id": "uidVBaiaDikn"
      },
      "source": [
        "# 중간에 멈추기와 건너뛰기 break , continue"
      ],
      "execution_count": null,
      "outputs": []
    },
    {
      "cell_type": "code",
      "metadata": {
        "colab": {
          "base_uri": "https://localhost:8080/"
        },
        "id": "weUQH79lDvRe",
        "outputId": "53deeb3a-133f-4d16-a359-1e7b6ead20b1"
      },
      "source": [
        "snack = [\"새우깡\",\"감자깡\",\"고구마깡\",\"맛동산\",\"짱구\"]\n",
        "for i in snack :\n",
        "    if i == \"고구마깡\" :\n",
        "          break                       # 고구마깡이 나오면 반복문을 멈춰라 #\n",
        "    print(i, \"완전 맛있어요\")"
      ],
      "execution_count": null,
      "outputs": [
        {
          "output_type": "stream",
          "text": [
            "새우깡 완전 맛있어요\n",
            "감자깡 완전 맛있어요\n"
          ],
          "name": "stdout"
        }
      ]
    },
    {
      "cell_type": "code",
      "metadata": {
        "colab": {
          "base_uri": "https://localhost:8080/"
        },
        "id": "9aDO2ltAEJXf",
        "outputId": "0d3d1238-414b-4b2d-e4fe-7f7c1faad2a9"
      },
      "source": [
        "snack = [\"새우깡\",\"감자깡\",\"고구마깡\",\"맛동산\",\"짱구\"]\n",
        "for i in snack :\n",
        "    if i == \"고구마깡\" :\n",
        "          continue                       # 고구마깡을 건너뛰고 반복문을 진행 #\n",
        "    print(i, \"완전 맛있어요\")"
      ],
      "execution_count": null,
      "outputs": [
        {
          "output_type": "stream",
          "text": [
            "새우깡 완전 맛있어요\n",
            "감자깡 완전 맛있어요\n",
            "맛동산 완전 맛있어요\n",
            "짱구 완전 맛있어요\n"
          ],
          "name": "stdout"
        }
      ]
    },
    {
      "cell_type": "code",
      "metadata": {
        "colab": {
          "base_uri": "https://localhost:8080/",
          "height": 1000
        },
        "id": "H-bCzhQRERh7",
        "outputId": "c86c3c34-620c-44d8-d633-ceadd25a8a54"
      },
      "source": [
        "menu1 = int(input('''\n",
        "1. 짜장면 - 5000원 2. 짬봉 - 6000원\n",
        "3. 군만두 - 8000원 4. 탕수육 - 10000원\n",
        "\n",
        "위 메뉴 중 주문할 메뉴의 번호를 쓰세요'''))\n",
        "menu2 = int(input('위 메뉴의 주문 수량을 쓰세요'))\n",
        "\n",
        "if menu1 == 1 :\n",
        "    print('주문하신 메뉴는 %s 이고 주문수량은 %s 그릇이며, 주문금액은 %s 입니다.' %(menu1, menu2, menu2*5000))\n",
        "elif menu1 == 2 :\n",
        "    print('주문하신 메뉴는 %s 이고 주문수량은 %s 그릇이며, 주문금액은 %s 입니다.' %(menu1, menu2, menu2*6000))\n",
        "elif menu1 == 3 :\n",
        "    print('주문하신 메뉴는 %s 이고 주문수량은 %s 그릇이며, 주문금액은 %s 입니다.' %(menu1, menu2, menu2*8000))\n",
        "elif menu1 == 4 :\n",
        "    print('주문하신 메뉴는 %s 이고 주문수량은 %s 그릇이며, 주문금액은 %s 입니다.' %(menu1, menu2, menu2*10000))\n",
        "\n",
        "menu3 = input('추가 주문을 하시겠습니까?(Y / N)')\n",
        "while menu3 == 'y' or menu3 == 'Y':\n",
        "  menu1 = int(input('''\n",
        "1. 짜장면 - 5000원 2. 짬봉 - 6000원\n",
        "3. 군만두 - 8000원 4. 탕수육 - 10000원\n",
        "\n",
        "위 메뉴 중 주문할 메뉴의 번호를 쓰세요'''))\n",
        "menu2 = int(input('위 메뉴의 주문 수량을 쓰세요'))\n",
        "\n",
        "if menu1 == 1 :\n",
        "    print('주문하신 메뉴는 %s 이고 주문수량은 %s 그릇이며, 주문금액은 %s 입니다.' %(menu1, menu2, menu2*5000))\n",
        "elif menu1 == 2 :\n",
        "    print('주문하신 메뉴는 %s 이고 주문수량은 %s 그릇이며, 주문금액은 %s 입니다.' %(menu1, menu2, menu2*6000))\n",
        "elif menu1 == 3 :\n",
        "    print('주문하신 메뉴는 %s 이고 주문수량은 %s 그릇이며, 주문금액은 %s 입니다.' %(menu1, menu2, menu2*8000))\n",
        "elif menu1 == 4 :\n",
        "    print('주문하신 메뉴는 %s 이고 주문수량은 %s 그릇이며, 주문금액은 %s 입니다.' %(menu1, menu2, menu2*10000))"
      ],
      "execution_count": null,
      "outputs": [
        {
          "output_type": "stream",
          "text": [
            "\n",
            "1. 짜장면 - 5000원 2. 짬봉 - 6000원\n",
            "3. 군만두 - 8000원 4. 탕수육 - 10000원\n",
            "\n",
            "위 메뉴 중 주문할 메뉴의 번호를 쓰세요1\n",
            "위 메뉴의 주문 수량을 쓰세요2\n",
            "주문하신 메뉴는 1 이고 주문수량은 2 그릇이며, 주문금액은 10000 입니다.\n",
            "추가 주문을 하시겠습니까?(Y / N)y\n",
            "\n",
            "1. 짜장면 - 5000원 2. 짬봉 - 6000원\n",
            "3. 군만두 - 8000원 4. 탕수육 - 10000원\n",
            "\n",
            "위 메뉴 중 주문할 메뉴의 번호를 쓰세요1\n",
            "\n",
            "1. 짜장면 - 5000원 2. 짬봉 - 6000원\n",
            "3. 군만두 - 8000원 4. 탕수육 - 10000원\n",
            "\n",
            "위 메뉴 중 주문할 메뉴의 번호를 쓰세요2\n",
            "\n",
            "1. 짜장면 - 5000원 2. 짬봉 - 6000원\n",
            "3. 군만두 - 8000원 4. 탕수육 - 10000원\n",
            "\n",
            "위 메뉴 중 주문할 메뉴의 번호를 쓰세요3\n",
            "\n",
            "1. 짜장면 - 5000원 2. 짬봉 - 6000원\n",
            "3. 군만두 - 8000원 4. 탕수육 - 10000원\n",
            "\n",
            "위 메뉴 중 주문할 메뉴의 번호를 쓰세요2\n",
            "\n",
            "1. 짜장면 - 5000원 2. 짬봉 - 6000원\n",
            "3. 군만두 - 8000원 4. 탕수육 - 10000원\n",
            "\n",
            "위 메뉴 중 주문할 메뉴의 번호를 쓰세요3\n",
            "\n",
            "1. 짜장면 - 5000원 2. 짬봉 - 6000원\n",
            "3. 군만두 - 8000원 4. 탕수육 - 10000원\n",
            "\n",
            "위 메뉴 중 주문할 메뉴의 번호를 쓰세요1\n",
            "\n",
            "1. 짜장면 - 5000원 2. 짬봉 - 6000원\n",
            "3. 군만두 - 8000원 4. 탕수육 - 10000원\n",
            "\n",
            "위 메뉴 중 주문할 메뉴의 번호를 쓰세요2\n"
          ],
          "name": "stdout"
        },
        {
          "output_type": "stream",
          "text": [
            "ERROR:root:An unexpected error occurred while tokenizing input\n",
            "The following traceback may be corrupted or invalid\n",
            "The error message is: ('EOF in multi-line string', (1, 22))\n",
            "\n"
          ],
          "name": "stderr"
        },
        {
          "output_type": "error",
          "ename": "KeyboardInterrupt",
          "evalue": "ignored",
          "traceback": [
            "\u001b[0;31m---------------------------------------------------------------------------\u001b[0m",
            "\u001b[0;31mKeyboardInterrupt\u001b[0m                         Traceback (most recent call last)",
            "\u001b[0;32m/usr/local/lib/python3.7/dist-packages/ipykernel/kernelbase.py\u001b[0m in \u001b[0;36m_input_request\u001b[0;34m(self, prompt, ident, parent, password)\u001b[0m\n\u001b[1;32m    728\u001b[0m             \u001b[0;32mtry\u001b[0m\u001b[0;34m:\u001b[0m\u001b[0;34m\u001b[0m\u001b[0;34m\u001b[0m\u001b[0m\n\u001b[0;32m--> 729\u001b[0;31m                 \u001b[0mident\u001b[0m\u001b[0;34m,\u001b[0m \u001b[0mreply\u001b[0m \u001b[0;34m=\u001b[0m \u001b[0mself\u001b[0m\u001b[0;34m.\u001b[0m\u001b[0msession\u001b[0m\u001b[0;34m.\u001b[0m\u001b[0mrecv\u001b[0m\u001b[0;34m(\u001b[0m\u001b[0mself\u001b[0m\u001b[0;34m.\u001b[0m\u001b[0mstdin_socket\u001b[0m\u001b[0;34m,\u001b[0m \u001b[0;36m0\u001b[0m\u001b[0;34m)\u001b[0m\u001b[0;34m\u001b[0m\u001b[0;34m\u001b[0m\u001b[0m\n\u001b[0m\u001b[1;32m    730\u001b[0m             \u001b[0;32mexcept\u001b[0m \u001b[0mException\u001b[0m\u001b[0;34m:\u001b[0m\u001b[0;34m\u001b[0m\u001b[0;34m\u001b[0m\u001b[0m\n",
            "\u001b[0;32m/usr/local/lib/python3.7/dist-packages/jupyter_client/session.py\u001b[0m in \u001b[0;36mrecv\u001b[0;34m(self, socket, mode, content, copy)\u001b[0m\n\u001b[1;32m    802\u001b[0m         \u001b[0;32mtry\u001b[0m\u001b[0;34m:\u001b[0m\u001b[0;34m\u001b[0m\u001b[0;34m\u001b[0m\u001b[0m\n\u001b[0;32m--> 803\u001b[0;31m             \u001b[0mmsg_list\u001b[0m \u001b[0;34m=\u001b[0m \u001b[0msocket\u001b[0m\u001b[0;34m.\u001b[0m\u001b[0mrecv_multipart\u001b[0m\u001b[0;34m(\u001b[0m\u001b[0mmode\u001b[0m\u001b[0;34m,\u001b[0m \u001b[0mcopy\u001b[0m\u001b[0;34m=\u001b[0m\u001b[0mcopy\u001b[0m\u001b[0;34m)\u001b[0m\u001b[0;34m\u001b[0m\u001b[0;34m\u001b[0m\u001b[0m\n\u001b[0m\u001b[1;32m    804\u001b[0m         \u001b[0;32mexcept\u001b[0m \u001b[0mzmq\u001b[0m\u001b[0;34m.\u001b[0m\u001b[0mZMQError\u001b[0m \u001b[0;32mas\u001b[0m \u001b[0me\u001b[0m\u001b[0;34m:\u001b[0m\u001b[0;34m\u001b[0m\u001b[0;34m\u001b[0m\u001b[0m\n",
            "\u001b[0;32m/usr/local/lib/python3.7/dist-packages/zmq/sugar/socket.py\u001b[0m in \u001b[0;36mrecv_multipart\u001b[0;34m(self, flags, copy, track)\u001b[0m\n\u001b[1;32m    618\u001b[0m         \"\"\"\n\u001b[0;32m--> 619\u001b[0;31m         \u001b[0mparts\u001b[0m \u001b[0;34m=\u001b[0m \u001b[0;34m[\u001b[0m\u001b[0mself\u001b[0m\u001b[0;34m.\u001b[0m\u001b[0mrecv\u001b[0m\u001b[0;34m(\u001b[0m\u001b[0mflags\u001b[0m\u001b[0;34m,\u001b[0m \u001b[0mcopy\u001b[0m\u001b[0;34m=\u001b[0m\u001b[0mcopy\u001b[0m\u001b[0;34m,\u001b[0m \u001b[0mtrack\u001b[0m\u001b[0;34m=\u001b[0m\u001b[0mtrack\u001b[0m\u001b[0;34m)\u001b[0m\u001b[0;34m]\u001b[0m\u001b[0;34m\u001b[0m\u001b[0;34m\u001b[0m\u001b[0m\n\u001b[0m\u001b[1;32m    620\u001b[0m         \u001b[0;31m# have first part already, only loop while more to receive\u001b[0m\u001b[0;34m\u001b[0m\u001b[0;34m\u001b[0m\u001b[0;34m\u001b[0m\u001b[0m\n",
            "\u001b[0;32mzmq/backend/cython/socket.pyx\u001b[0m in \u001b[0;36mzmq.backend.cython.socket.Socket.recv\u001b[0;34m()\u001b[0m\n",
            "\u001b[0;32mzmq/backend/cython/socket.pyx\u001b[0m in \u001b[0;36mzmq.backend.cython.socket.Socket.recv\u001b[0;34m()\u001b[0m\n",
            "\u001b[0;32mzmq/backend/cython/socket.pyx\u001b[0m in \u001b[0;36mzmq.backend.cython.socket._recv_copy\u001b[0;34m()\u001b[0m\n",
            "\u001b[0;32m/usr/local/lib/python3.7/dist-packages/zmq/backend/cython/checkrc.pxd\u001b[0m in \u001b[0;36mzmq.backend.cython.checkrc._check_rc\u001b[0;34m()\u001b[0m\n",
            "\u001b[0;31mKeyboardInterrupt\u001b[0m: ",
            "\nDuring handling of the above exception, another exception occurred:\n",
            "\u001b[0;31mKeyboardInterrupt\u001b[0m                         Traceback (most recent call last)",
            "\u001b[0;32m<ipython-input-64-44981104bae3>\u001b[0m in \u001b[0;36m<module>\u001b[0;34m()\u001b[0m\n\u001b[1;32m     21\u001b[0m \u001b[0;36m3.\u001b[0m \u001b[0m군만두\u001b[0m \u001b[0;34m-\u001b[0m \u001b[0;36m8000\u001b[0m\u001b[0m원\u001b[0m \u001b[0;36m4.\u001b[0m \u001b[0m탕수육\u001b[0m \u001b[0;34m-\u001b[0m \u001b[0;36m10000\u001b[0m\u001b[0m원\u001b[0m\u001b[0;34m\u001b[0m\u001b[0;34m\u001b[0m\u001b[0m\n\u001b[1;32m     22\u001b[0m \u001b[0;34m\u001b[0m\u001b[0m\n\u001b[0;32m---> 23\u001b[0;31m 위 메뉴 중 주문할 메뉴의 번호를 쓰세요'''))\n\u001b[0m\u001b[1;32m     24\u001b[0m \u001b[0mmenu2\u001b[0m \u001b[0;34m=\u001b[0m \u001b[0mint\u001b[0m\u001b[0;34m(\u001b[0m\u001b[0minput\u001b[0m\u001b[0;34m(\u001b[0m\u001b[0;34m'위 메뉴의 주문 수량을 쓰세요'\u001b[0m\u001b[0;34m)\u001b[0m\u001b[0;34m)\u001b[0m\u001b[0;34m\u001b[0m\u001b[0;34m\u001b[0m\u001b[0m\n\u001b[1;32m     25\u001b[0m \u001b[0;34m\u001b[0m\u001b[0m\n",
            "\u001b[0;32m/usr/local/lib/python3.7/dist-packages/ipykernel/kernelbase.py\u001b[0m in \u001b[0;36mraw_input\u001b[0;34m(self, prompt)\u001b[0m\n\u001b[1;32m    702\u001b[0m             \u001b[0mself\u001b[0m\u001b[0;34m.\u001b[0m\u001b[0m_parent_ident\u001b[0m\u001b[0;34m,\u001b[0m\u001b[0;34m\u001b[0m\u001b[0;34m\u001b[0m\u001b[0m\n\u001b[1;32m    703\u001b[0m             \u001b[0mself\u001b[0m\u001b[0;34m.\u001b[0m\u001b[0m_parent_header\u001b[0m\u001b[0;34m,\u001b[0m\u001b[0;34m\u001b[0m\u001b[0;34m\u001b[0m\u001b[0m\n\u001b[0;32m--> 704\u001b[0;31m             \u001b[0mpassword\u001b[0m\u001b[0;34m=\u001b[0m\u001b[0;32mFalse\u001b[0m\u001b[0;34m,\u001b[0m\u001b[0;34m\u001b[0m\u001b[0;34m\u001b[0m\u001b[0m\n\u001b[0m\u001b[1;32m    705\u001b[0m         )\n\u001b[1;32m    706\u001b[0m \u001b[0;34m\u001b[0m\u001b[0m\n",
            "\u001b[0;32m/usr/local/lib/python3.7/dist-packages/ipykernel/kernelbase.py\u001b[0m in \u001b[0;36m_input_request\u001b[0;34m(self, prompt, ident, parent, password)\u001b[0m\n\u001b[1;32m    732\u001b[0m             \u001b[0;32mexcept\u001b[0m \u001b[0mKeyboardInterrupt\u001b[0m\u001b[0;34m:\u001b[0m\u001b[0;34m\u001b[0m\u001b[0;34m\u001b[0m\u001b[0m\n\u001b[1;32m    733\u001b[0m                 \u001b[0;31m# re-raise KeyboardInterrupt, to truncate traceback\u001b[0m\u001b[0;34m\u001b[0m\u001b[0;34m\u001b[0m\u001b[0;34m\u001b[0m\u001b[0m\n\u001b[0;32m--> 734\u001b[0;31m                 \u001b[0;32mraise\u001b[0m \u001b[0mKeyboardInterrupt\u001b[0m\u001b[0;34m\u001b[0m\u001b[0;34m\u001b[0m\u001b[0m\n\u001b[0m\u001b[1;32m    735\u001b[0m             \u001b[0;32melse\u001b[0m\u001b[0;34m:\u001b[0m\u001b[0;34m\u001b[0m\u001b[0;34m\u001b[0m\u001b[0m\n\u001b[1;32m    736\u001b[0m                 \u001b[0;32mbreak\u001b[0m\u001b[0;34m\u001b[0m\u001b[0;34m\u001b[0m\u001b[0m\n",
            "\u001b[0;31mKeyboardInterrupt\u001b[0m: "
          ]
        }
      ]
    },
    {
      "cell_type": "code",
      "metadata": {
        "id": "GauFBbvZFwlj"
      },
      "source": [
        "2"
      ],
      "execution_count": null,
      "outputs": []
    }
  ]
}